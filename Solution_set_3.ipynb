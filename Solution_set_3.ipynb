{
 "cells": [
  {
   "cell_type": "code",
   "execution_count": 66,
   "metadata": {
    "collapsed": false
   },
   "outputs": [
    {
     "name": "stdout",
     "output_type": "stream",
     "text": [
      "(450L,)\n",
      "450\n",
      "<type 'numpy.ndarray'>\n"
     ]
    }
   ],
   "source": [
    "#Question 2: Reading the data into a numpy array and resizing it\n",
    "import numpy as np\n",
    "\n",
    "reader = open(\"standard_atmosphere.txt\", \"r\")\n",
    "reader.readline()\n",
    "reader.readline()\n",
    "arr = np.fromfile(reader, sep=\" \")\n",
    "print arr.shape\n",
    "print arr.size\n",
    "print type(arr)\n",
    "arr.resize((45, 10))"
   ]
  },
  {
   "cell_type": "code",
   "execution_count": 1,
   "metadata": {
    "collapsed": false
   },
   "outputs": [
    {
     "name": "stdout",
     "output_type": "stream",
     "text": [
      "Populating the interactive namespace from numpy and matplotlib\n"
     ]
    },
    {
     "ename": "NameError",
     "evalue": "name 'arr' is not defined",
     "output_type": "error",
     "traceback": [
      "\u001b[1;31m---------------------------------------------------------------------------\u001b[0m",
      "\u001b[1;31mNameError\u001b[0m                                 Traceback (most recent call last)",
      "\u001b[1;32m<ipython-input-1-461015e0883e>\u001b[0m in \u001b[0;36m<module>\u001b[1;34m()\u001b[0m\n\u001b[0;32m      4\u001b[0m \u001b[1;33m\u001b[0m\u001b[0m\n\u001b[0;32m      5\u001b[0m \u001b[1;31m#set up the variables\u001b[0m\u001b[1;33m\u001b[0m\u001b[1;33m\u001b[0m\u001b[0m\n\u001b[1;32m----> 6\u001b[1;33m \u001b[0maltitude\u001b[0m \u001b[1;33m=\u001b[0m \u001b[0marr\u001b[0m\u001b[1;33m[\u001b[0m\u001b[1;33m:\u001b[0m\u001b[1;33m,\u001b[0m\u001b[1;36m0\u001b[0m\u001b[1;33m]\u001b[0m\u001b[1;33m\u001b[0m\u001b[0m\n\u001b[0m\u001b[0;32m      7\u001b[0m \u001b[0mtemperature\u001b[0m \u001b[1;33m=\u001b[0m \u001b[0marr\u001b[0m\u001b[1;33m[\u001b[0m\u001b[1;33m:\u001b[0m\u001b[1;33m,\u001b[0m\u001b[1;36m4\u001b[0m\u001b[1;33m]\u001b[0m\u001b[1;33m\u001b[0m\u001b[0m\n\u001b[0;32m      8\u001b[0m \u001b[0mpressure\u001b[0m \u001b[1;33m=\u001b[0m \u001b[0marr\u001b[0m\u001b[1;33m[\u001b[0m\u001b[1;33m:\u001b[0m\u001b[1;33m,\u001b[0m\u001b[1;36m5\u001b[0m\u001b[1;33m]\u001b[0m\u001b[1;33m\u001b[0m\u001b[0m\n",
      "\u001b[1;31mNameError\u001b[0m: name 'arr' is not defined"
     ]
    }
   ],
   "source": [
    "#Question 3: Plotting\n",
    "%pylab inline\n",
    "import numpy as np\n",
    "\n",
    "#do what the above cell did (makes the cell independent, not required)\n",
    "reader = open(\"standard_atmosphere.txt\", \"r\")\n",
    "reader.readline()\n",
    "reader.readline()\n",
    "arr = np.fromfile(reader, sep=\" \")\n",
    "arr.resize((45, 10))\n",
    "\n",
    "#set up the variables\n",
    "altitude = arr[:,0]\n",
    "temperature = arr[:,4]\n",
    "pressure = arr[:,5]\n",
    "pressure = np.array(pressure)\n",
    "log_pressure = np.log(pressure)\n",
    "density = arr[:,6]\n",
    "density = np.array(density)\n",
    "log_density = np.log(density)\n",
    "\n",
    "#create the first plot\n",
    "pylab.subplot(131) #131 = row#/column#/plot#\n",
    "pylab.plot(temperature, altitude)\n",
    "pylab.ylabel(\"altitude (km)\")\n",
    "pylab.xlabel(\"temperature (K)\")\n",
    "pylab.title(\"temperature vs. altitude\")\n",
    "\n",
    "#create the second plot\n",
    "pylab.subplot(132) #132 = row#/column#/plot#\n",
    "pylab.plot(temperature, log_pressure)\n",
    "pylab.ylabel(\"log-pressure (N/sq. m)\")\n",
    "pylab.xlabel(\"temperature (K)\")\n",
    "pylab.title(\"temperature vs. log-pressure\")\n",
    "\n",
    "#create the third plot\n",
    "pylab.subplot(133) #132 = row#/column#/plot#\n",
    "pylab.plot(log_density, altitude)\n",
    "pylab.ylabel(\"altitude (km)\")\n",
    "pylab.xlabel(\"log-density (kg/cu. m)\")\n",
    "pylab.title(\"log-pressure vs altitude\")"
   ]
  },
  {
   "cell_type": "code",
   "execution_count": null,
   "metadata": {
    "collapsed": true
   },
   "outputs": [],
   "source": []
  }
 ],
 "metadata": {
  "kernelspec": {
   "display_name": "Python 2",
   "language": "python",
   "name": "python2"
  },
  "language_info": {
   "codemirror_mode": {
    "name": "ipython",
    "version": 2
   },
   "file_extension": ".py",
   "mimetype": "text/x-python",
   "name": "python",
   "nbconvert_exporter": "python",
   "pygments_lexer": "ipython2",
   "version": "2.7.11"
  }
 },
 "nbformat": 4,
 "nbformat_minor": 0
}
