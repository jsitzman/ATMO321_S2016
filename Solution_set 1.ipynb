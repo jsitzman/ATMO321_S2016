{
 "cells": [
  {
   "cell_type": "code",
   "execution_count": 15,
   "metadata": {
    "collapsed": false
   },
   "outputs": [
    {
     "ename": "SyntaxError",
     "evalue": "invalid syntax (<ipython-input-15-207604b9166c>, line 2)",
     "output_type": "error",
     "traceback": [
      "\u001b[1;36m  File \u001b[1;32m\"<ipython-input-15-207604b9166c>\"\u001b[1;36m, line \u001b[1;32m2\u001b[0m\n\u001b[1;33m    = syntax_error\u001b[0m\n\u001b[1;37m    ^\u001b[0m\n\u001b[1;31mSyntaxError\u001b[0m\u001b[1;31m:\u001b[0m invalid syntax\n"
     ]
    }
   ],
   "source": [
    "#Question 1\n",
    "= syntax_error"
   ]
  },
  {
   "cell_type": "code",
   "execution_count": 16,
   "metadata": {
    "collapsed": false
   },
   "outputs": [
    {
     "ename": "NameError",
     "evalue": "name 'run_time_error' is not defined",
     "output_type": "error",
     "traceback": [
      "\u001b[1;31m---------------------------------------------------------------------------\u001b[0m",
      "\u001b[1;31mNameError\u001b[0m                                 Traceback (most recent call last)",
      "\u001b[1;32m<ipython-input-16-2efba1f39f8e>\u001b[0m in \u001b[0;36m<module>\u001b[1;34m()\u001b[0m\n\u001b[0;32m      1\u001b[0m \u001b[1;31m#Question 2\u001b[0m\u001b[1;33m\u001b[0m\u001b[1;33m\u001b[0m\u001b[0m\n\u001b[1;32m----> 2\u001b[1;33m \u001b[0mmy_variable\u001b[0m \u001b[1;33m=\u001b[0m \u001b[0mrun_time_error\u001b[0m\u001b[1;33m\u001b[0m\u001b[0m\n\u001b[0m",
      "\u001b[1;31mNameError\u001b[0m: name 'run_time_error' is not defined"
     ]
    }
   ],
   "source": [
    "#Question 2\n",
    "my_variable = run_time_error"
   ]
  },
  {
   "cell_type": "code",
   "execution_count": 17,
   "metadata": {
    "collapsed": false
   },
   "outputs": [
    {
     "name": "stdout",
     "output_type": "stream",
     "text": [
      "Enter a fruit: Orange\n",
      "Enter a fruit: Apple\n",
      "Enter a fruit: Peach\n",
      "Orange, Apple, Peach\n"
     ]
    }
   ],
   "source": [
    "#Question 3\n",
    "fruit_a = raw_input(\"Enter a fruit: \")\n",
    "fruit_b = raw_input(\"Enter a fruit: \")\n",
    "fruit_c = raw_input(\"Enter a fruit: \")\n",
    "print fruit_a + \", \" + fruit_b + \", \" + fruit_c"
   ]
  },
  {
   "cell_type": "code",
   "execution_count": 19,
   "metadata": {
    "collapsed": false
   },
   "outputs": [
    {
     "name": "stdout",
     "output_type": "stream",
     "text": [
      "Enter an integer numerator: 3\n",
      "Enter an integer denominator: 4\n",
      "0\n"
     ]
    }
   ],
   "source": [
    "#Question 4\n",
    "numerator = int(raw_input(\"Enter an integer numerator: \"))\n",
    "denominator = int(raw_input(\"Enter an integer denominator: \"))\n",
    "print numerator / denominator"
   ]
  },
  {
   "cell_type": "code",
   "execution_count": 20,
   "metadata": {
    "collapsed": false
   },
   "outputs": [
    {
     "name": "stdout",
     "output_type": "stream",
     "text": [
      "Enter a float numerator: 8.6\n",
      "Enter a float denominator: 6.4\n",
      "1.34375\n"
     ]
    }
   ],
   "source": [
    "#Question 5\n",
    "numerator = float(raw_input(\"Enter a float numerator: \"))\n",
    "denominator = float(raw_input(\"Enter a float denominator: \"))\n",
    "print numerator / denominator"
   ]
  },
  {
   "cell_type": "code",
   "execution_count": 23,
   "metadata": {
    "collapsed": false
   },
   "outputs": [
    {
     "name": "stdout",
     "output_type": "stream",
     "text": [
      "Enter a float to be rounded: 4.5\n",
      "5\n"
     ]
    }
   ],
   "source": [
    "#Question 6\n",
    "unrounded = float(raw_input(\"Enter a float to be rounded: \"))\n",
    "print int(round(unrounded))"
   ]
  },
  {
   "cell_type": "code",
   "execution_count": 25,
   "metadata": {
    "collapsed": false
   },
   "outputs": [
    {
     "name": "stdout",
     "output_type": "stream",
     "text": [
      "Enter a number between 1,000,000.0 to 1,000,000,000.0: 1234567\n",
      "1234567.0 to the 20th power is: 6.76539692563e+121\n"
     ]
    }
   ],
   "source": [
    "#Question 7\n",
    "millBill = float(raw_input(\"Enter a number between 1,000,000.0 to 1,000,000,000.0: \"))\n",
    "print str(millBill) + \" to the 20th power is: \" + str(millBill**20)"
   ]
  },
  {
   "cell_type": "code",
   "execution_count": 27,
   "metadata": {
    "collapsed": false
   },
   "outputs": [
    {
     "name": "stdout",
     "output_type": "stream",
     "text": [
      "Enter a number between 1,000,000.0 to 1,000,000,000.0: 8901234\n"
     ]
    },
    {
     "ename": "OverflowError",
     "evalue": "(34, 'Result too large')",
     "output_type": "error",
     "traceback": [
      "\u001b[1;31m---------------------------------------------------------------------------\u001b[0m",
      "\u001b[1;31mOverflowError\u001b[0m                             Traceback (most recent call last)",
      "\u001b[1;32m<ipython-input-27-f421010b7bf4>\u001b[0m in \u001b[0;36m<module>\u001b[1;34m()\u001b[0m\n\u001b[0;32m      1\u001b[0m \u001b[1;31m#Question 8\u001b[0m\u001b[1;33m\u001b[0m\u001b[1;33m\u001b[0m\u001b[0m\n\u001b[0;32m      2\u001b[0m \u001b[0mmillBill\u001b[0m \u001b[1;33m=\u001b[0m \u001b[0mfloat\u001b[0m\u001b[1;33m(\u001b[0m\u001b[0mraw_input\u001b[0m\u001b[1;33m(\u001b[0m\u001b[1;34m\"Enter a number between 1,000,000.0 to 1,000,000,000.0: \"\u001b[0m\u001b[1;33m)\u001b[0m\u001b[1;33m)\u001b[0m\u001b[1;33m\u001b[0m\u001b[0m\n\u001b[1;32m----> 3\u001b[1;33m \u001b[1;32mprint\u001b[0m \u001b[0mstr\u001b[0m\u001b[1;33m(\u001b[0m\u001b[0mmillBill\u001b[0m\u001b[1;33m)\u001b[0m \u001b[1;33m+\u001b[0m \u001b[1;34m\" to the 70th power is: \"\u001b[0m \u001b[1;33m+\u001b[0m \u001b[0mstr\u001b[0m\u001b[1;33m(\u001b[0m\u001b[0mmillBill\u001b[0m\u001b[1;33m**\u001b[0m\u001b[1;36m70\u001b[0m\u001b[1;33m)\u001b[0m\u001b[1;33m\u001b[0m\u001b[0m\n\u001b[0m",
      "\u001b[1;31mOverflowError\u001b[0m: (34, 'Result too large')"
     ]
    }
   ],
   "source": [
    "#Question 8\n",
    "millBill = float(raw_input(\"Enter a number between 1,000,000.0 to 1,000,000,000.0: \"))\n",
    "print str(millBill) + \" to the 70th power is: \" + str(millBill**70)"
   ]
  },
  {
   "cell_type": "code",
   "execution_count": 29,
   "metadata": {
    "collapsed": false
   },
   "outputs": [
    {
     "name": "stdout",
     "output_type": "stream",
     "text": [
      "Enter the width of the rectangle: 4.5\n",
      "Enter the height of the rectangle: 5.5\n",
      "area = 24.75\n"
     ]
    }
   ],
   "source": [
    "#Question 9\n",
    "width = float(raw_input(\"Enter the width of the rectangle: \"))\n",
    "height = float(raw_input(\"Enter the height of the rectangle: \"))\n",
    "print \"area = \" + str(width*height)"
   ]
  },
  {
   "cell_type": "code",
   "execution_count": 32,
   "metadata": {
    "collapsed": false
   },
   "outputs": [
    {
     "name": "stdout",
     "output_type": "stream",
     "text": [
      "Enter the temperature in Celsius: 100\n",
      "Fahrenheit: 212.0\n"
     ]
    }
   ],
   "source": [
    "#Question 10\n",
    "celsius = float(raw_input(\"Enter the temperature in Celsius: \"))\n",
    "print \"Fahrenheit: \" + str( 9.0 / 5.0 * celsius + 32)"
   ]
  },
  {
   "cell_type": "code",
   "execution_count": null,
   "metadata": {
    "collapsed": true
   },
   "outputs": [],
   "source": []
  }
 ],
 "metadata": {
  "kernelspec": {
   "display_name": "Python 2",
   "language": "python",
   "name": "python2"
  },
  "language_info": {
   "codemirror_mode": {
    "name": "ipython",
    "version": 2
   },
   "file_extension": ".py",
   "mimetype": "text/x-python",
   "name": "python",
   "nbconvert_exporter": "python",
   "pygments_lexer": "ipython2",
   "version": "2.7.11"
  }
 },
 "nbformat": 4,
 "nbformat_minor": 0
}
