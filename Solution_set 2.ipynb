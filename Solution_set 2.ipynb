{
 "cells": [
  {
   "cell_type": "code",
   "execution_count": 1,
   "metadata": {
    "collapsed": false
   },
   "outputs": [
    {
     "name": "stdout",
     "output_type": "stream",
     "text": [
      "100.0\n",
      "37.0\n",
      "23.0555555556\n",
      "0.0\n",
      "-40.0\n"
     ]
    }
   ],
   "source": [
    "#Question 1\n",
    "def f2c(x):\n",
    "    return (5.0/9.0) * (x - 32)\n",
    "print f2c(212)\n",
    "print f2c(98.6)\n",
    "print f2c(73.5)\n",
    "print f2c(32)\n",
    "print f2c(-40)"
   ]
  },
  {
   "cell_type": "code",
   "execution_count": 2,
   "metadata": {
    "collapsed": false
   },
   "outputs": [
    {
     "name": "stdout",
     "output_type": "stream",
     "text": [
      "0.5\n",
      "0.866025403784\n",
      "1.0\n",
      "0.866025403784\n"
     ]
    }
   ],
   "source": [
    "#Question 2\n",
    "import math\n",
    "def sin2(x):\n",
    "    return math.sin(math.radians(2 * x))\n",
    "print sin2(15.0)\n",
    "print sin2(30.0)\n",
    "print sin2(45.0)\n",
    "print sin2(60.0)"
   ]
  },
  {
   "cell_type": "code",
   "execution_count": null,
   "metadata": {
    "collapsed": true
   },
   "outputs": [],
   "source": [
    "#Question 3\n",
    "import turtle\n",
    "def stroke(x):\n",
    "    turtle.forward(x)\n",
    "    turtle.left(90)\n",
    "def square(x):\n",
    "    stroke(x)\n",
    "    stroke(x)\n",
    "    stroke(x)\n",
    "    stroke(x)\n",
    "square(100)\n",
    "square(30)\n",
    "stroke(100)\n",
    "square(30)\n",
    "stroke(100)\n",
    "square(30)\n",
    "stroke(100)\n",
    "square(30)"
   ]
  }
 ],
 "metadata": {
  "kernelspec": {
   "display_name": "Python 2",
   "language": "python",
   "name": "python2"
  },
  "language_info": {
   "codemirror_mode": {
    "name": "ipython",
    "version": 2
   },
   "file_extension": ".py",
   "mimetype": "text/x-python",
   "name": "python",
   "nbconvert_exporter": "python",
   "pygments_lexer": "ipython2",
   "version": "2.7.11"
  }
 },
 "nbformat": 4,
 "nbformat_minor": 0
}
