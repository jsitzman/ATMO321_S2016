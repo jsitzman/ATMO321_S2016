{
 "cells": [
  {
   "cell_type": "code",
   "execution_count": 1,
   "metadata": {
    "collapsed": false
   },
   "outputs": [
    {
     "name": "stdout",
     "output_type": "stream",
     "text": [
      "85 501446\n"
     ]
    }
   ],
   "source": [
    "#Task 1: Sum function\n",
    "#Write a function sum_int(m, n) that computes and returns the sum of all integers from m to n. \n",
    "#You must use a loop with the accumulator pattern to compute the sum. \n",
    "def sum_int(m, n):\n",
    "    my_sum = 0\n",
    "    for x in range(m, n+1):\n",
    "        my_sum = my_sum + x\n",
    "    return my_sum\n",
    "\n",
    "print sum_int(4, 13), sum_int(11, 1001)\n",
    "#85  501446"
   ]
  },
  {
   "cell_type": "code",
   "execution_count": 2,
   "metadata": {
    "collapsed": false
   },
   "outputs": [
    {
     "name": "stdout",
     "output_type": "stream",
     "text": [
      "119.668052482 14651.9591273\n"
     ]
    }
   ],
   "source": [
    "#Task 2: Compound interest calculation\n",
    "#Write a function compound_interest(amount, rate, months) that takes three arguments, \n",
    "#the amount of money deposited (in dollars), interest rate rate (in percent per year), and the number of months, \n",
    "#and returns the final balance after adding the interest for those years. \n",
    "#The interest rate is expressed percent per year, meaning the monthly rate is one twelfth of that. \n",
    "#The interest on the current balance is computed every month and added to the balance.\n",
    "\n",
    "def compound_interest(amount, rate, months):\n",
    "    for x in range(0, months):\n",
    "        amount = amount + rate / 1200.0 * amount\n",
    "    return amount\n",
    "\n",
    "print compound_interest(100.0, 6.0, 36), compound_interest(12000.0, 4.0, 60)\n",
    "#119.668  14651.959"
   ]
  },
  {
   "cell_type": "code",
   "execution_count": 3,
   "metadata": {
    "collapsed": false
   },
   "outputs": [
    {
     "name": "stdout",
     "output_type": "stream",
     "text": [
      "F A C D\n",
      "['F', 'A', 'C', 'D']\n"
     ]
    }
   ],
   "source": [
    "#Task 3: Grading function\n",
    "#(i) Write a function grade(x) that accepts a numerical score x between 0 and 100 and returns a one-character string,\n",
    "#with \"A\" corresponding to x values greater than or equal to 90, \"B\" for x>=80, \"C\" for x>=70, \"D\" for x>=60, \n",
    "#and\"F\" for `all other values.\n",
    "\n",
    "#(ii) Write a function grade_list(y) that accepts a list y of numerical scores, and returns a list of grades. \n",
    "#Use the previously defined function grade(x) function within this new function, \n",
    "#and also use the accumulator pattern to create the list value to return.\n",
    "\n",
    "#Hint: Start with an empty list and append to it to create a new list.\n",
    "\n",
    "def grade(x):\n",
    "    if x >= 90:\n",
    "        return \"A\"\n",
    "    elif x >= 80:\n",
    "        return \"B\"\n",
    "    elif x >= 70:\n",
    "        return \"C\"\n",
    "    elif x >= 60:\n",
    "        return \"D\"\n",
    "    else:\n",
    "        return \"F\"\n",
    "\n",
    "def grade_list(y):\n",
    "    mylist = []\n",
    "    for item in y:\n",
    "        mylist.append(grade(item))\n",
    "    return mylist\n",
    "\n",
    "#print grade(54), grade(91), grade(75), grade(62)\n",
    "#It should print\n",
    "\n",
    "#F A C D\n",
    "\n",
    "print grade_list([54, 91, 75, 62])\n",
    "#It should print\n",
    "\n",
    "#[\"F\", \"A\", \"C\", \"D\"]"
   ]
  },
  {
   "cell_type": "code",
   "execution_count": null,
   "metadata": {
    "collapsed": true
   },
   "outputs": [],
   "source": []
  }
 ],
 "metadata": {
  "kernelspec": {
   "display_name": "Python 2",
   "language": "python",
   "name": "python2"
  },
  "language_info": {
   "codemirror_mode": {
    "name": "ipython",
    "version": 2
   },
   "file_extension": ".py",
   "mimetype": "text/x-python",
   "name": "python",
   "nbconvert_exporter": "python",
   "pygments_lexer": "ipython2",
   "version": "2.7.11"
  }
 },
 "nbformat": 4,
 "nbformat_minor": 0
}
