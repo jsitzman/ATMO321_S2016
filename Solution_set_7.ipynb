{
 "cells": [
  {
   "cell_type": "code",
   "execution_count": 4,
   "metadata": {
    "collapsed": false
   },
   "outputs": [
    {
     "name": "stdout",
     "output_type": "stream",
     "text": [
      "08:05 PM\n"
     ]
    }
   ],
   "source": [
    "def time_stamp(hour, minute, pm=False):\n",
    "    if pm:\n",
    "        return \"%02d:%02d PM\" % (hour, minute)\n",
    "    return \"%02d:%02d AM\" % (hour, minute)\n",
    "print time_stamp(8, 5, pm=True)"
   ]
  },
  {
   "cell_type": "code",
   "execution_count": 8,
   "metadata": {
    "collapsed": false
   },
   "outputs": [
    {
     "name": "stdout",
     "output_type": "stream",
     "text": [
      "06:60 AM\n"
     ]
    }
   ],
   "source": [
    "from IPython.html.widgets import interact\n",
    "def show_time(hour, minute, pm=False):\n",
    "    print time_stamp(hour, minute, pm=pm)\n",
    "interact(show_time, hour = (1,12), minute = (0,60))"
   ]
  },
  {
   "cell_type": "code",
   "execution_count": null,
   "metadata": {
    "collapsed": true
   },
   "outputs": [],
   "source": []
  }
 ],
 "metadata": {
  "kernelspec": {
   "display_name": "Python 2",
   "language": "python",
   "name": "python2"
  },
  "language_info": {
   "codemirror_mode": {
    "name": "ipython",
    "version": 2
   },
   "file_extension": ".py",
   "mimetype": "text/x-python",
   "name": "python",
   "nbconvert_exporter": "python",
   "pygments_lexer": "ipython2",
   "version": "2.7.11"
  }
 },
 "nbformat": 4,
 "nbformat_minor": 0
}
